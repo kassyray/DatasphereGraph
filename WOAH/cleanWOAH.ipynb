{
 "cells": [
  {
   "cell_type": "code",
   "execution_count": 1,
   "id": "a26d51fe",
   "metadata": {},
   "outputs": [],
   "source": [
    "import pandas as pd\n",
    "import requests\n",
    "import csv"
   ]
  },
  {
   "cell_type": "code",
   "execution_count": 2,
   "id": "00b273d4",
   "metadata": {},
   "outputs": [],
   "source": [
    "def make_call(url): \n",
    "    with requests.Session() as s:\n",
    "        download = s.get(url)\n",
    "\n",
    "        decoded_content = download.content.decode('utf-8')\n",
    "\n",
    "        cr = csv.reader(decoded_content.splitlines(), delimiter=',')\n",
    "        my_list = list(cr)\n",
    "\n",
    "    return(my_list)"
   ]
  },
  {
   "cell_type": "code",
   "execution_count": 3,
   "id": "e484ee5e",
   "metadata": {},
   "outputs": [],
   "source": [
    "# Get all WOAH data \n",
    "base_url = 'http://gbadske.org:9000/GBADsLivestockPopulation/oie?species=*&year='\n",
    "df_list = []\n",
    "for year in range(2005, 2020):\n",
    "    url = '%s%d&format=file' % (base_url, year)\n",
    "    df = make_call(url)\n",
    "    df = pd.DataFrame(df[1:],columns=df[0])\n",
    "    df_list.append(df)"
   ]
  },
  {
   "cell_type": "code",
   "execution_count": 13,
   "id": "b7185916",
   "metadata": {},
   "outputs": [],
   "source": [
    "woah_df = pd.concat(df_list)\n",
    "woah_df = woah_df.assign(population = 'WOAHpopulation')"
   ]
  },
  {
   "cell_type": "code",
   "execution_count": 5,
   "id": "c4994e64",
   "metadata": {},
   "outputs": [],
   "source": [
    "area_cat_yr = pd.DataFrame(woah_df.groupby(['country','species'])['year'].unique().apply(list))\n",
    "area_cat_yr = area_cat_yr.reset_index()"
   ]
  },
  {
   "cell_type": "code",
   "execution_count": 6,
   "id": "a4f6d5af",
   "metadata": {},
   "outputs": [],
   "source": [
    "cat_yr = pd.DataFrame(woah_df.groupby('species')['year'].unique().apply(list))\n",
    "cat_yr = cat_yr.reset_index()"
   ]
  },
  {
   "cell_type": "code",
   "execution_count": 8,
   "id": "550cc69f",
   "metadata": {},
   "outputs": [],
   "source": [
    "area_cat_yr = area_cat_yr.assign(population = 'WOAHpopulation')\n",
    "cat_yr = cat_yr.assign(population = 'WOAHpopulation')"
   ]
  },
  {
   "cell_type": "code",
   "execution_count": 15,
   "id": "37d3f297",
   "metadata": {},
   "outputs": [],
   "source": [
    "src_yr = pd.DataFrame(woah_df.groupby('population')['year'].unique().apply(list))\n",
    "src_yr = src_yr.reset_index()"
   ]
  },
  {
   "cell_type": "code",
   "execution_count": 13,
   "id": "b6889f34",
   "metadata": {},
   "outputs": [],
   "source": [
    "area_cat_yr.to_csv('WOAH_area_cat_yr_source.csv', index = False)\n",
    "cat_yr.to_csv('WOAH_cat_yr_source.csv', index = False)"
   ]
  },
  {
   "cell_type": "code",
   "execution_count": 17,
   "id": "f8c93882",
   "metadata": {},
   "outputs": [],
   "source": [
    "src_yr.to_csv('WOAH_source_yr.csv', index = False)"
   ]
  },
  {
   "cell_type": "code",
   "execution_count": null,
   "id": "6ad2bdfa",
   "metadata": {},
   "outputs": [],
   "source": []
  }
 ],
 "metadata": {
  "kernelspec": {
   "display_name": "Python 3 (ipykernel)",
   "language": "python",
   "name": "python3"
  },
  "language_info": {
   "codemirror_mode": {
    "name": "ipython",
    "version": 3
   },
   "file_extension": ".py",
   "mimetype": "text/x-python",
   "name": "python",
   "nbconvert_exporter": "python",
   "pygments_lexer": "ipython3",
   "version": "3.10.0"
  }
 },
 "nbformat": 4,
 "nbformat_minor": 5
}
