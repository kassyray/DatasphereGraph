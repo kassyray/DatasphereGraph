{
 "cells": [
  {
   "cell_type": "code",
   "execution_count": 15,
   "id": "e7dfc782",
   "metadata": {},
   "outputs": [],
   "source": [
    "import pandas as pd"
   ]
  },
  {
   "cell_type": "code",
   "execution_count": 90,
   "id": "dc89c516",
   "metadata": {},
   "outputs": [],
   "source": [
    "def make_dict(df): \n",
    "    out_dict = df.set_index(0).T.to_dict('list')\n",
    "    return(out_dict)\n",
    "\n",
    "def replace_val(df, col_dict, col): \n",
    "    df[col] = df[col].map(col_dict)\n",
    "    return(df)\n",
    "\n",
    "def split_clean_cols(df): \n",
    "    df[['animals','unit','geo']] = df['animals,unit,geo'].str.split(',', expand = True)\n",
    "    df = df.drop(columns = ['animals,unit,geo'])\n",
    "    df.columns = df.columns.str.replace(' ','')\n",
    "    return(df)"
   ]
  },
  {
   "cell_type": "code",
   "execution_count": 93,
   "id": "bdd566fb",
   "metadata": {},
   "outputs": [],
   "source": [
    "# IMPORT FILES\n",
    "animals = pd.read_csv('ESTAT_ANIMALS_en.tsv', delimiter = '\\t', header = None)\n",
    "unit = pd.read_csv('ESTAT_UNIT_en.tsv', delimiter = '\\t', header = None)\n",
    "geo = pd.read_csv('ESTAT_GEO_en.tsv', delimiter = '\\t', header = None)\n",
    "agr_r_animal = pd.read_csv('agr_r_animal.tsv', delimiter = '\\t')  "
   ]
  },
  {
   "cell_type": "code",
   "execution_count": 94,
   "id": "69419002",
   "metadata": {},
   "outputs": [],
   "source": [
    "animals_dict = make_dict(animals)\n",
    "unit_dict = make_dict(unit)\n",
    "geo_dict = make_dict(geo)"
   ]
  },
  {
   "cell_type": "code",
   "execution_count": 95,
   "id": "adb83c39",
   "metadata": {},
   "outputs": [],
   "source": [
    "cols = agr_r_animal.columns.tolist()\n",
    "cols[0] = 'animals,unit,geo'\n",
    "agr_r_animal.columns = cols"
   ]
  },
  {
   "cell_type": "code",
   "execution_count": 96,
   "id": "98e9b8e8",
   "metadata": {},
   "outputs": [],
   "source": [
    "agr_r_animal = split_clean_cols(agr_r_animal)"
   ]
  },
  {
   "cell_type": "code",
   "execution_count": 8,
   "id": "a86119a4",
   "metadata": {},
   "outputs": [],
   "source": [
    "agr_r_animal['animals'] = agr_r_animal['animals'].map(animals_dict).str[0]\n",
    "agr_r_animal['unit'] = agr_r_animal['unit'].map(unit_dict).str[0]\n",
    "agr_r_animal['geo/time'] = agr_r_animal['geo/time'].map(geo_dict).str[0]"
   ]
  },
  {
   "cell_type": "code",
   "execution_count": 9,
   "id": "832aac95",
   "metadata": {},
   "outputs": [],
   "source": [
    "agr_r_animal = agr_r_animal.melt(id_vars=['animals','unit','geo/time'], \n",
    "        var_name='year', \n",
    "        value_name='population')"
   ]
  },
  {
   "cell_type": "code",
   "execution_count": 11,
   "id": "b7cb57a0",
   "metadata": {},
   "outputs": [],
   "source": [
    "agr_r_animal = agr_r_animal[agr_r_animal.population != ': ']"
   ]
  },
  {
   "cell_type": "code",
   "execution_count": 13,
   "id": "691f0d74",
   "metadata": {},
   "outputs": [],
   "source": [
    "agr_r_animal_cat_yr = agr_r_animal.groupby(['animals'])['year'].unique().apply(list).reset_index()\n",
    "agr_r_animal_cat_area_yr = agr_r_animal.groupby(['animals','geo/time'])['year'].unique().apply(list).reset_index()"
   ]
  },
  {
   "cell_type": "code",
   "execution_count": 16,
   "id": "124e0076",
   "metadata": {},
   "outputs": [
    {
     "data": {
      "text/html": [
       "<div>\n",
       "<style scoped>\n",
       "    .dataframe tbody tr th:only-of-type {\n",
       "        vertical-align: middle;\n",
       "    }\n",
       "\n",
       "    .dataframe tbody tr th {\n",
       "        vertical-align: top;\n",
       "    }\n",
       "\n",
       "    .dataframe thead th {\n",
       "        text-align: right;\n",
       "    }\n",
       "</style>\n",
       "<table border=\"1\" class=\"dataframe\">\n",
       "  <thead>\n",
       "    <tr style=\"text-align: right;\">\n",
       "      <th></th>\n",
       "      <th>animals</th>\n",
       "      <th>geo/time</th>\n",
       "      <th>year</th>\n",
       "    </tr>\n",
       "  </thead>\n",
       "  <tbody>\n",
       "    <tr>\n",
       "      <th>0</th>\n",
       "      <td>Bovine animals, 1 to less than 2 years old</td>\n",
       "      <td>Abruzzo</td>\n",
       "      <td>[2021, 2020, 2019, 2018, 2017, 2016, 2015, 201...</td>\n",
       "    </tr>\n",
       "    <tr>\n",
       "      <th>1</th>\n",
       "      <td>Bovine animals, 1 to less than 2 years old</td>\n",
       "      <td>Alentejo</td>\n",
       "      <td>[2021, 2020, 2019, 2018, 2017, 2016, 2015, 201...</td>\n",
       "    </tr>\n",
       "    <tr>\n",
       "      <th>2</th>\n",
       "      <td>Bovine animals, 1 to less than 2 years old</td>\n",
       "      <td>Alföld és Észak</td>\n",
       "      <td>[2021, 2020, 2019, 2018, 2017, 2016, 2015, 201...</td>\n",
       "    </tr>\n",
       "    <tr>\n",
       "      <th>3</th>\n",
       "      <td>Bovine animals, 1 to less than 2 years old</td>\n",
       "      <td>Algarve</td>\n",
       "      <td>[2021, 2020, 2019, 2018, 2017, 2016, 2015, 201...</td>\n",
       "    </tr>\n",
       "    <tr>\n",
       "      <th>4</th>\n",
       "      <td>Bovine animals, 1 to less than 2 years old</td>\n",
       "      <td>Alsace</td>\n",
       "      <td>[2021, 2020, 2019, 2018, 2017, 2016, 2015, 201...</td>\n",
       "    </tr>\n",
       "    <tr>\n",
       "      <th>...</th>\n",
       "      <td>...</td>\n",
       "      <td>...</td>\n",
       "      <td>...</td>\n",
       "    </tr>\n",
       "    <tr>\n",
       "      <th>18801</th>\n",
       "      <td>Sows, not covered</td>\n",
       "      <td>Ísland</td>\n",
       "      <td>[2019, 2018, 2017, 2016, 2015, 2014, 2013, 201...</td>\n",
       "    </tr>\n",
       "    <tr>\n",
       "      <th>18802</th>\n",
       "      <td>Sows, not covered</td>\n",
       "      <td>Île de France</td>\n",
       "      <td>[2021, 2020, 2019, 2018, 2017, 2016, 2015, 201...</td>\n",
       "    </tr>\n",
       "    <tr>\n",
       "      <th>18803</th>\n",
       "      <td>Sows, not covered</td>\n",
       "      <td>Östra Mellansverige</td>\n",
       "      <td>[2021, 2020, 2019, 2018, 2017, 2016, 2015, 201...</td>\n",
       "    </tr>\n",
       "    <tr>\n",
       "      <th>18804</th>\n",
       "      <td>Sows, not covered</td>\n",
       "      <td>Östra Sverige</td>\n",
       "      <td>[2021, 2020, 2019, 2018, 2017, 2016, 2015, 201...</td>\n",
       "    </tr>\n",
       "    <tr>\n",
       "      <th>18805</th>\n",
       "      <td>Sows, not covered</td>\n",
       "      <td>Övre Norrland</td>\n",
       "      <td>[2021, 2020, 2019, 2018, 2017, 2016, 2015, 201...</td>\n",
       "    </tr>\n",
       "  </tbody>\n",
       "</table>\n",
       "<p>18806 rows × 3 columns</p>\n",
       "</div>"
      ],
      "text/plain": [
       "                                          animals             geo/time  \\\n",
       "0      Bovine animals, 1 to less than 2 years old              Abruzzo   \n",
       "1      Bovine animals, 1 to less than 2 years old             Alentejo   \n",
       "2      Bovine animals, 1 to less than 2 years old      Alföld és Észak   \n",
       "3      Bovine animals, 1 to less than 2 years old              Algarve   \n",
       "4      Bovine animals, 1 to less than 2 years old               Alsace   \n",
       "...                                           ...                  ...   \n",
       "18801                           Sows, not covered               Ísland   \n",
       "18802                           Sows, not covered        Île de France   \n",
       "18803                           Sows, not covered  Östra Mellansverige   \n",
       "18804                           Sows, not covered        Östra Sverige   \n",
       "18805                           Sows, not covered        Övre Norrland   \n",
       "\n",
       "                                                    year  \n",
       "0      [2021, 2020, 2019, 2018, 2017, 2016, 2015, 201...  \n",
       "1      [2021, 2020, 2019, 2018, 2017, 2016, 2015, 201...  \n",
       "2      [2021, 2020, 2019, 2018, 2017, 2016, 2015, 201...  \n",
       "3      [2021, 2020, 2019, 2018, 2017, 2016, 2015, 201...  \n",
       "4      [2021, 2020, 2019, 2018, 2017, 2016, 2015, 201...  \n",
       "...                                                  ...  \n",
       "18801  [2019, 2018, 2017, 2016, 2015, 2014, 2013, 201...  \n",
       "18802  [2021, 2020, 2019, 2018, 2017, 2016, 2015, 201...  \n",
       "18803  [2021, 2020, 2019, 2018, 2017, 2016, 2015, 201...  \n",
       "18804  [2021, 2020, 2019, 2018, 2017, 2016, 2015, 201...  \n",
       "18805  [2021, 2020, 2019, 2018, 2017, 2016, 2015, 201...  \n",
       "\n",
       "[18806 rows x 3 columns]"
      ]
     },
     "execution_count": 16,
     "metadata": {},
     "output_type": "execute_result"
    }
   ],
   "source": [
    "agr_r_animal_cat_area_yr"
   ]
  },
  {
   "cell_type": "code",
   "execution_count": null,
   "id": "72231791",
   "metadata": {},
   "outputs": [],
   "source": []
  }
 ],
 "metadata": {
  "kernelspec": {
   "display_name": "Python 3 (ipykernel)",
   "language": "python",
   "name": "python3"
  },
  "language_info": {
   "codemirror_mode": {
    "name": "ipython",
    "version": 3
   },
   "file_extension": ".py",
   "mimetype": "text/x-python",
   "name": "python",
   "nbconvert_exporter": "python",
   "pygments_lexer": "ipython3",
   "version": "3.10.0"
  }
 },
 "nbformat": 4,
 "nbformat_minor": 5
}
