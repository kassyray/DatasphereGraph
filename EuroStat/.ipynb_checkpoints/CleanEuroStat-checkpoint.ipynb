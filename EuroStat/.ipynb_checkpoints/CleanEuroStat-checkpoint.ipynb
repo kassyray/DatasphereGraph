{
 "cells": [
  {
   "cell_type": "code",
   "execution_count": 15,
   "id": "7cf136d3",
   "metadata": {},
   "outputs": [],
   "source": [
    "import pandas as pd"
   ]
  },
  {
   "cell_type": "code",
   "execution_count": 83,
   "id": "062483a9",
   "metadata": {},
   "outputs": [],
   "source": [
    "def make_dict(df): \n",
    "    out_dict = df.set_index(0).T.to_dict('list')\n",
    "    return(out_dict)\n",
    "\n",
    "def replace_val(df, col_dict, col): \n",
    "    df[col] = df[col].map(col_dict)\n",
    "    return(df)\n",
    "\n",
    "def split_clean_cols(df): \n",
    "    df[['animals','unit','geo']] = df['animals,unit,geo'].str.split(',', expand = True)\n",
    "    df = df.drop(columns = ['animals,unit,geo'])\n",
    "    df.columns = df.columns.str.replace(' ','')\n",
    "    return(df)"
   ]
  },
  {
   "cell_type": "code",
   "execution_count": 85,
   "id": "a49e9ab3",
   "metadata": {},
   "outputs": [],
   "source": [
    "# IMPORT FILES\n",
    "animals = pd.read_csv('ESTAT_ANIMALS_en.tsv', delimiter = '\\t', header = None)\n",
    "unit = pd.read_csv('ESTAT_UNIT_en.tsv', delimiter = '\\t', header = None)\n",
    "geo = pd.read_csv('ESTAT_GEO_en.tsv', delimiter = '\\t', header = None)\n",
    "agr_r_animal = pd.read_csv('agr_r_animal.tsv', delimiter = '\\t')  "
   ]
  },
  {
   "cell_type": "code",
   "execution_count": 86,
   "id": "4c460aed",
   "metadata": {},
   "outputs": [],
   "source": [
    "animals_dict = make_dict(animals)\n",
    "unit_dict = make_dict(unit)\n",
    "geo_dict = make_dict(geo)"
   ]
  },
  {
   "cell_type": "code",
   "execution_count": 87,
   "id": "51b8c2d8",
   "metadata": {},
   "outputs": [],
   "source": [
    "cols = agr_r_animal.columns.tolist()\n",
    "cols[0] = 'animals,unit,geo'\n",
    "agr_r_animal.columns = cols"
   ]
  },
  {
   "cell_type": "code",
   "execution_count": 88,
   "id": "e1e45b6d",
   "metadata": {},
   "outputs": [
    {
     "name": "stdout",
     "output_type": "stream",
     "text": [
      "        animals,unit,geo     2021      2020      2019      2018      2017   \\\n",
      "0        A2000,THS_HD,AT  1870.10   1855.43   1879.52   1912.81   1943.48    \n",
      "1       A2000,THS_HD,AT1   435.67    428.79    438.43    448.30    456.40    \n",
      "2      A2000,THS_HD,AT11    17.27     17.50     18.69     19.20     19.88    \n",
      "3      A2000,THS_HD,AT12   418.33    411.21    419.66    429.03    436.44    \n",
      "4      A2000,THS_HD,AT13     0.07      0.07      0.08      0.08      0.08    \n",
      "...                  ...       ...       ...       ...       ...       ...   \n",
      "20262   A4220,THS_HD,UKK        :         :         :         :         :    \n",
      "20263   A4220,THS_HD,UKL        :         :         :         :         :    \n",
      "20264   A4220,THS_HD,UKM        :         :         :         :         :    \n",
      "20265   A4220,THS_HD,UKN        :         :         :         :         :    \n",
      "20266  A4220,THS_HD,UKN0        :         :         :         :         :    \n",
      "\n",
      "          2016      2015      2014      2013   ...     1983      1982   \\\n",
      "0      1954.39   1957.61   1961.20   1958.28   ...  2633.30   2546.30    \n",
      "1       459.08    463.08    467.90    467.15   ...   716.50    697.40    \n",
      "2        20.43     20.43     20.93     20.98   ...    66.70     65.50    \n",
      "3       438.55    442.58    446.87    446.08   ...   649.60    631.70    \n",
      "4         0.10      0.07      0.10      0.09   ...     0.20      0.30    \n",
      "...         ...       ...       ...       ...  ...       ...       ...   \n",
      "20262        :         :         :      0.00   ...        :         :    \n",
      "20263        :         :         :      0.00   ...        :         :    \n",
      "20264        :         :         :      0.00   ...        :         :    \n",
      "20265        :         :         :      0.00   ...        :         :    \n",
      "20266        :         :      0.00      0.00   ...        :         :    \n",
      "\n",
      "          1981      1980      1979      1978      1977  animals    unit   geo  \n",
      "0      2530.20   2516.90   2547.90   2593.60   2547.30    A2000  THS_HD    AT  \n",
      "1       691.00    691.20    691.40    693.90    688.40    A2000  THS_HD   AT1  \n",
      "2        68.10     68.50     72.70     75.60     77.90    A2000  THS_HD  AT11  \n",
      "3       622.50    622.20    618.40    617.90    610.20    A2000  THS_HD  AT12  \n",
      "4         0.40      0.50      0.30      0.40      0.30    A2000  THS_HD  AT13  \n",
      "...         ...       ...       ...       ...       ...     ...     ...   ...  \n",
      "20262        :         :         :         :         :    A4220  THS_HD   UKK  \n",
      "20263        :         :         :         :         :    A4220  THS_HD   UKL  \n",
      "20264        :         :         :         :         :    A4220  THS_HD   UKM  \n",
      "20265        :         :         :         :         :    A4220  THS_HD   UKN  \n",
      "20266        :         :         :         :         :    A4220  THS_HD  UKN0  \n",
      "\n",
      "[20267 rows x 49 columns]\n",
      "          2021      2020      2019      2018      2017      2016      2015   \\\n",
      "0      1870.10   1855.43   1879.52   1912.81   1943.48   1954.39   1957.61    \n",
      "1       435.67    428.79    438.43    448.30    456.40    459.08    463.08    \n",
      "2        17.27     17.50     18.69     19.20     19.88     20.43     20.43    \n",
      "3       418.33    411.21    419.66    429.03    436.44    438.55    442.58    \n",
      "4         0.07      0.07      0.08      0.08      0.08      0.10      0.07    \n",
      "...         ...       ...       ...       ...       ...       ...       ...   \n",
      "20262        :         :         :         :         :         :         :    \n",
      "20263        :         :         :         :         :         :         :    \n",
      "20264        :         :         :         :         :         :         :    \n",
      "20265        :         :         :         :         :         :         :    \n",
      "20266        :         :         :         :         :         :         :    \n",
      "\n",
      "          2014      2013      2012   ...     1983      1982      1981   \\\n",
      "0      1961.20   1958.28   1955.62   ...  2633.30   2546.30   2530.20    \n",
      "1       467.90    467.15    465.66   ...   716.50    697.40    691.00    \n",
      "2        20.93     20.98     21.61   ...    66.70     65.50     68.10    \n",
      "3       446.87    446.08    443.94   ...   649.60    631.70    622.50    \n",
      "4         0.10      0.09      0.11   ...     0.20      0.30      0.40    \n",
      "...         ...       ...       ...  ...       ...       ...       ...   \n",
      "20262        :      0.00         :   ...        :         :         :    \n",
      "20263        :      0.00         :   ...        :         :         :    \n",
      "20264        :      0.00         :   ...        :         :         :    \n",
      "20265        :      0.00         :   ...        :         :         :    \n",
      "20266     0.00      0.00         :   ...        :         :         :    \n",
      "\n",
      "          1980      1979      1978      1977  animals    unit   geo  \n",
      "0      2516.90   2547.90   2593.60   2547.30    A2000  THS_HD    AT  \n",
      "1       691.20    691.40    693.90    688.40    A2000  THS_HD   AT1  \n",
      "2        68.50     72.70     75.60     77.90    A2000  THS_HD  AT11  \n",
      "3       622.20    618.40    617.90    610.20    A2000  THS_HD  AT12  \n",
      "4         0.50      0.30      0.40      0.30    A2000  THS_HD  AT13  \n",
      "...         ...       ...       ...       ...     ...     ...   ...  \n",
      "20262        :         :         :         :    A4220  THS_HD   UKK  \n",
      "20263        :         :         :         :    A4220  THS_HD   UKL  \n",
      "20264        :         :         :         :    A4220  THS_HD   UKM  \n",
      "20265        :         :         :         :    A4220  THS_HD   UKN  \n",
      "20266        :         :         :         :    A4220  THS_HD  UKN0  \n",
      "\n",
      "[20267 rows x 48 columns]\n"
     ]
    }
   ],
   "source": [
    "agr_r_animal = split_clean_cols(agr_r_animal)"
   ]
  },
  {
   "cell_type": "code",
   "execution_count": 76,
   "id": "fcceb7e8",
   "metadata": {},
   "outputs": [
    {
     "data": {
      "text/plain": [
       "Index(['2021', '2020', '2019', '2018', '2017', '2016', '2015', '2014', '2013',\n",
       "       '2012', '2011', '2010', '2009', '2008', '2007', '2006', '2005', '2004',\n",
       "       '2003', '2002', '2001', '2000', '1999', '1998', '1997', '1996', '1995',\n",
       "       '1994', '1993', '1992', '1991', '1990', '1989', '1988', '1987', '1986',\n",
       "       '1985', '1984', '1983', '1982', '1981', '1980', '1979', '1978', '1977',\n",
       "       'animals', 'unit', 'geo'],\n",
       "      dtype='object')"
      ]
     },
     "execution_count": 76,
     "metadata": {},
     "output_type": "execute_result"
    }
   ],
   "source": [
    "agr_r_animal"
   ]
  },
  {
   "cell_type": "code",
   "execution_count": 5,
   "id": "ac5e3fd4",
   "metadata": {},
   "outputs": [],
   "source": [
    "agr_r_animal[['animals','unit','geo/time']] = agr_r_animal['animals,unit,geo\\\\time'].str.split(',', expand = True)"
   ]
  },
  {
   "cell_type": "code",
   "execution_count": 6,
   "id": "4f01ad9d",
   "metadata": {},
   "outputs": [],
   "source": [
    "agr_r_animal = agr_r_animal.drop(columns = ['animals,unit,geo\\\\time'])"
   ]
  },
  {
   "cell_type": "code",
   "execution_count": 7,
   "id": "4bea8a6a",
   "metadata": {},
   "outputs": [],
   "source": [
    "agr_r_animal.columns = agr_r_animal.columns.str.replace(' ','')"
   ]
  },
  {
   "cell_type": "code",
   "execution_count": 8,
   "id": "a88da94c",
   "metadata": {},
   "outputs": [],
   "source": [
    "agr_r_animal['animals'] = agr_r_animal['animals'].map(animals_dict).str[0]\n",
    "agr_r_animal['unit'] = agr_r_animal['unit'].map(unit_dict).str[0]\n",
    "agr_r_animal['geo/time'] = agr_r_animal['geo/time'].map(geo_dict).str[0]"
   ]
  },
  {
   "cell_type": "code",
   "execution_count": 9,
   "id": "5a6f681e",
   "metadata": {},
   "outputs": [],
   "source": [
    "agr_r_animal = agr_r_animal.melt(id_vars=['animals','unit','geo/time'], \n",
    "        var_name='year', \n",
    "        value_name='population')"
   ]
  },
  {
   "cell_type": "code",
   "execution_count": 11,
   "id": "27f9a579",
   "metadata": {},
   "outputs": [],
   "source": [
    "agr_r_animal = agr_r_animal[agr_r_animal.population != ': ']"
   ]
  },
  {
   "cell_type": "code",
   "execution_count": 13,
   "id": "c2a1f5ff",
   "metadata": {},
   "outputs": [],
   "source": [
    "agr_r_animal_cat_yr = agr_r_animal.groupby(['animals'])['year'].unique().apply(list).reset_index()\n",
    "agr_r_animal_cat_area_yr = agr_r_animal.groupby(['animals','geo/time'])['year'].unique().apply(list).reset_index()"
   ]
  },
  {
   "cell_type": "code",
   "execution_count": 16,
   "id": "8a570cdc",
   "metadata": {},
   "outputs": [
    {
     "data": {
      "text/html": [
       "<div>\n",
       "<style scoped>\n",
       "    .dataframe tbody tr th:only-of-type {\n",
       "        vertical-align: middle;\n",
       "    }\n",
       "\n",
       "    .dataframe tbody tr th {\n",
       "        vertical-align: top;\n",
       "    }\n",
       "\n",
       "    .dataframe thead th {\n",
       "        text-align: right;\n",
       "    }\n",
       "</style>\n",
       "<table border=\"1\" class=\"dataframe\">\n",
       "  <thead>\n",
       "    <tr style=\"text-align: right;\">\n",
       "      <th></th>\n",
       "      <th>animals</th>\n",
       "      <th>geo/time</th>\n",
       "      <th>year</th>\n",
       "    </tr>\n",
       "  </thead>\n",
       "  <tbody>\n",
       "    <tr>\n",
       "      <th>0</th>\n",
       "      <td>Bovine animals, 1 to less than 2 years old</td>\n",
       "      <td>Abruzzo</td>\n",
       "      <td>[2021, 2020, 2019, 2018, 2017, 2016, 2015, 201...</td>\n",
       "    </tr>\n",
       "    <tr>\n",
       "      <th>1</th>\n",
       "      <td>Bovine animals, 1 to less than 2 years old</td>\n",
       "      <td>Alentejo</td>\n",
       "      <td>[2021, 2020, 2019, 2018, 2017, 2016, 2015, 201...</td>\n",
       "    </tr>\n",
       "    <tr>\n",
       "      <th>2</th>\n",
       "      <td>Bovine animals, 1 to less than 2 years old</td>\n",
       "      <td>Alföld és Észak</td>\n",
       "      <td>[2021, 2020, 2019, 2018, 2017, 2016, 2015, 201...</td>\n",
       "    </tr>\n",
       "    <tr>\n",
       "      <th>3</th>\n",
       "      <td>Bovine animals, 1 to less than 2 years old</td>\n",
       "      <td>Algarve</td>\n",
       "      <td>[2021, 2020, 2019, 2018, 2017, 2016, 2015, 201...</td>\n",
       "    </tr>\n",
       "    <tr>\n",
       "      <th>4</th>\n",
       "      <td>Bovine animals, 1 to less than 2 years old</td>\n",
       "      <td>Alsace</td>\n",
       "      <td>[2021, 2020, 2019, 2018, 2017, 2016, 2015, 201...</td>\n",
       "    </tr>\n",
       "    <tr>\n",
       "      <th>...</th>\n",
       "      <td>...</td>\n",
       "      <td>...</td>\n",
       "      <td>...</td>\n",
       "    </tr>\n",
       "    <tr>\n",
       "      <th>18801</th>\n",
       "      <td>Sows, not covered</td>\n",
       "      <td>Ísland</td>\n",
       "      <td>[2019, 2018, 2017, 2016, 2015, 2014, 2013, 201...</td>\n",
       "    </tr>\n",
       "    <tr>\n",
       "      <th>18802</th>\n",
       "      <td>Sows, not covered</td>\n",
       "      <td>Île de France</td>\n",
       "      <td>[2021, 2020, 2019, 2018, 2017, 2016, 2015, 201...</td>\n",
       "    </tr>\n",
       "    <tr>\n",
       "      <th>18803</th>\n",
       "      <td>Sows, not covered</td>\n",
       "      <td>Östra Mellansverige</td>\n",
       "      <td>[2021, 2020, 2019, 2018, 2017, 2016, 2015, 201...</td>\n",
       "    </tr>\n",
       "    <tr>\n",
       "      <th>18804</th>\n",
       "      <td>Sows, not covered</td>\n",
       "      <td>Östra Sverige</td>\n",
       "      <td>[2021, 2020, 2019, 2018, 2017, 2016, 2015, 201...</td>\n",
       "    </tr>\n",
       "    <tr>\n",
       "      <th>18805</th>\n",
       "      <td>Sows, not covered</td>\n",
       "      <td>Övre Norrland</td>\n",
       "      <td>[2021, 2020, 2019, 2018, 2017, 2016, 2015, 201...</td>\n",
       "    </tr>\n",
       "  </tbody>\n",
       "</table>\n",
       "<p>18806 rows × 3 columns</p>\n",
       "</div>"
      ],
      "text/plain": [
       "                                          animals             geo/time  \\\n",
       "0      Bovine animals, 1 to less than 2 years old              Abruzzo   \n",
       "1      Bovine animals, 1 to less than 2 years old             Alentejo   \n",
       "2      Bovine animals, 1 to less than 2 years old      Alföld és Észak   \n",
       "3      Bovine animals, 1 to less than 2 years old              Algarve   \n",
       "4      Bovine animals, 1 to less than 2 years old               Alsace   \n",
       "...                                           ...                  ...   \n",
       "18801                           Sows, not covered               Ísland   \n",
       "18802                           Sows, not covered        Île de France   \n",
       "18803                           Sows, not covered  Östra Mellansverige   \n",
       "18804                           Sows, not covered        Östra Sverige   \n",
       "18805                           Sows, not covered        Övre Norrland   \n",
       "\n",
       "                                                    year  \n",
       "0      [2021, 2020, 2019, 2018, 2017, 2016, 2015, 201...  \n",
       "1      [2021, 2020, 2019, 2018, 2017, 2016, 2015, 201...  \n",
       "2      [2021, 2020, 2019, 2018, 2017, 2016, 2015, 201...  \n",
       "3      [2021, 2020, 2019, 2018, 2017, 2016, 2015, 201...  \n",
       "4      [2021, 2020, 2019, 2018, 2017, 2016, 2015, 201...  \n",
       "...                                                  ...  \n",
       "18801  [2019, 2018, 2017, 2016, 2015, 2014, 2013, 201...  \n",
       "18802  [2021, 2020, 2019, 2018, 2017, 2016, 2015, 201...  \n",
       "18803  [2021, 2020, 2019, 2018, 2017, 2016, 2015, 201...  \n",
       "18804  [2021, 2020, 2019, 2018, 2017, 2016, 2015, 201...  \n",
       "18805  [2021, 2020, 2019, 2018, 2017, 2016, 2015, 201...  \n",
       "\n",
       "[18806 rows x 3 columns]"
      ]
     },
     "execution_count": 16,
     "metadata": {},
     "output_type": "execute_result"
    }
   ],
   "source": [
    "agr_r_animal_cat_area_yr"
   ]
  },
  {
   "cell_type": "code",
   "execution_count": null,
   "id": "6c366679",
   "metadata": {},
   "outputs": [],
   "source": []
  }
 ],
 "metadata": {
  "kernelspec": {
   "display_name": "Python 3 (ipykernel)",
   "language": "python",
   "name": "python3"
  },
  "language_info": {
   "codemirror_mode": {
    "name": "ipython",
    "version": 3
   },
   "file_extension": ".py",
   "mimetype": "text/x-python",
   "name": "python",
   "nbconvert_exporter": "python",
   "pygments_lexer": "ipython3",
   "version": "3.10.0"
  }
 },
 "nbformat": 4,
 "nbformat_minor": 5
}
