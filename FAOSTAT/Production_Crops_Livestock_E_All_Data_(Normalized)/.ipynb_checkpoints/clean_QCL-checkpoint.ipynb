{
 "cells": [
  {
   "cell_type": "code",
   "execution_count": 1,
   "id": "1782f6f1",
   "metadata": {},
   "outputs": [],
   "source": [
    "import pandas as pd\n",
    "pd.set_option('display.max_rows', 100)"
   ]
  },
  {
   "cell_type": "code",
   "execution_count": 2,
   "id": "0249b076",
   "metadata": {},
   "outputs": [],
   "source": [
    "df = pd.read_csv('Production_Crops_Livestock_E_All_Data_(Normalized).csv', encoding = \"ISO-8859-1\")\n",
    "df = df.drop(columns = ['Area Code','Element Code'])"
   ]
  },
  {
   "cell_type": "code",
   "execution_count": 4,
   "id": "cbf74455",
   "metadata": {},
   "outputs": [],
   "source": [
    "drop_units = ['ha', 'hg/ha', 'tonnes', '100mg/An','hg/An', '0.1g/An', '1000 No', 'No/An', 'hg']\n",
    "drop_item = ['Snails, not sea','Honey, natural','Beehives', 'Beeswax']"
   ]
  },
  {
   "cell_type": "code",
   "execution_count": 5,
   "id": "16bdba51",
   "metadata": {},
   "outputs": [],
   "source": [
    "for i in drop_units: \n",
    "    df = df[df['Unit'].str.contains(i) == False]\n",
    "    \n",
    "for i in drop_item: \n",
    "    df = df[df['Item'].str.contains(i) == False]"
   ]
  },
  {
   "cell_type": "code",
   "execution_count": 7,
   "id": "29315123",
   "metadata": {},
   "outputs": [],
   "source": [
    "element_item_unit_year = pd.DataFrame(df.groupby(['Element','Item','Unit'])['Year'].unique().apply(list).reset_index())\n",
    "area_item_element_year = pd.DataFrame(df.groupby(['Area', 'Item', 'Element'])['Year'].unique().apply(list).reset_index())\n",
    "element_year = pd.DataFrame(df.groupby(['Element'])['Year'].unique().apply(list).reset_index())"
   ]
  },
  {
   "cell_type": "code",
   "execution_count": 18,
   "id": "972ea2fe",
   "metadata": {},
   "outputs": [],
   "source": [
    "element_item_unit_year.to_csv('QCL_element_item_unit_yr.csv')\n",
    "area_item_element_year.to_csv('QCL_area_element_yr.csv')\n",
    "element_year.to_csv('QCL_element_yr.csv')"
   ]
  },
  {
   "cell_type": "code",
   "execution_count": null,
   "id": "cac0ee67",
   "metadata": {},
   "outputs": [],
   "source": []
  }
 ],
 "metadata": {
  "kernelspec": {
   "display_name": "Python 3 (ipykernel)",
   "language": "python",
   "name": "python3"
  },
  "language_info": {
   "codemirror_mode": {
    "name": "ipython",
    "version": 3
   },
   "file_extension": ".py",
   "mimetype": "text/x-python",
   "name": "python",
   "nbconvert_exporter": "python",
   "pygments_lexer": "ipython3",
   "version": "3.10.0"
  }
 },
 "nbformat": 4,
 "nbformat_minor": 5
}
