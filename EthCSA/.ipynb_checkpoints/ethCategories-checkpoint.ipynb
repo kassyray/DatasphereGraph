{
 "cells": [
  {
   "cell_type": "code",
   "execution_count": 1,
   "id": "5037989e",
   "metadata": {},
   "outputs": [],
   "source": [
    "import pandas as pd\n",
    "import requests\n",
    "import csv\n",
    "import sys\n",
    "import datetime\n",
    "import numpy as np\n",
    "\n",
    "def make_call(url): \n",
    "    with requests.Session() as s:\n",
    "        download = s.get(url)\n",
    "\n",
    "        decoded_content = download.content.decode('utf-8')\n",
    "\n",
    "        cr = csv.reader(decoded_content.splitlines(), delimiter=',')\n",
    "        my_list = list(cr)\t\n",
    "\n",
    "    return(my_list)"
   ]
  },
  {
   "cell_type": "code",
   "execution_count": 23,
   "id": "5157e941",
   "metadata": {},
   "outputs": [],
   "source": [
    "field_names_baseurl = 'http://gbadske.org:9000/GBADsTable/public?table_name='\n",
    "all_tables = make_call('http://gbadske.org:9000/GBADsTables/public?format=text')\n",
    "all_tables = all_tables[0]"
   ]
  },
  {
   "cell_type": "code",
   "execution_count": 24,
   "id": "48e1ca31",
   "metadata": {},
   "outputs": [
    {
     "name": "stdout",
     "output_type": "stream",
     "text": [
      "http://gbadske.org:9000/GBADsTable/public?eth_csa_camels_category&format=text\n",
      "http://gbadske.org:9000/GBADsTable/public?eth_csa_camels_dairy&format=text\n",
      "http://gbadske.org:9000/GBADsTable/public?eth_csa_camels_estimation&format=text\n",
      "http://gbadske.org:9000/GBADsTable/public?eth_csa_camels_health&format=text\n",
      "http://gbadske.org:9000/GBADsTable/public?eth_csa_camels_holdings&format=text\n",
      "http://gbadske.org:9000/GBADsTable/public?eth_csa_camels_usage&format=text\n",
      "http://gbadske.org:9000/GBADsTable/public?eth_csa_cattle_category&format=text\n",
      "http://gbadske.org:9000/GBADsTable/public?eth_csa_cattle_dairy&format=text\n",
      "http://gbadske.org:9000/GBADsTable/public?eth_csa_cattle_estimation&format=text\n",
      "http://gbadske.org:9000/GBADsTable/public?eth_csa_cattle_health&format=text\n",
      "http://gbadske.org:9000/GBADsTable/public?eth_csa_cattle_holdings&format=text\n",
      "http://gbadske.org:9000/GBADsTable/public?eth_csa_cattle_usage&format=text\n",
      "http://gbadske.org:9000/GBADsTable/public?eth_csa_donkeys_category&format=text\n",
      "http://gbadske.org:9000/GBADsTable/public?eth_csa_donkeys_estimation&format=text\n",
      "http://gbadske.org:9000/GBADsTable/public?eth_csa_donkeys_health&format=text\n",
      "http://gbadske.org:9000/GBADsTable/public?eth_csa_donkeys_holdings&format=text\n",
      "http://gbadske.org:9000/GBADsTable/public?eth_csa_donkeys_usage&format=text\n",
      "http://gbadske.org:9000/GBADsTable/public?eth_csa_goats_category&format=text\n",
      "http://gbadske.org:9000/GBADsTable/public?eth_csa_goats_estimation&format=text\n",
      "http://gbadske.org:9000/GBADsTable/public?eth_csa_goats_health&format=text\n",
      "http://gbadske.org:9000/GBADsTable/public?eth_csa_goats_holdings&format=text\n",
      "http://gbadske.org:9000/GBADsTable/public?eth_csa_goats_usage&format=text\n",
      "http://gbadske.org:9000/GBADsTable/public?eth_csa_horses_category&format=text\n",
      "http://gbadske.org:9000/GBADsTable/public?eth_csa_horses_estimation&format=text\n",
      "http://gbadske.org:9000/GBADsTable/public?eth_csa_horses_health&format=text\n",
      "http://gbadske.org:9000/GBADsTable/public?eth_csa_horses_holdings&format=text\n",
      "http://gbadske.org:9000/GBADsTable/public?eth_csa_horses_usage&format=text\n",
      "http://gbadske.org:9000/GBADsTable/public?eth_csa_mules_category&format=text\n",
      "http://gbadske.org:9000/GBADsTable/public?eth_csa_mules_estimation&format=text\n",
      "http://gbadske.org:9000/GBADsTable/public?eth_csa_mules_health&format=text\n",
      "http://gbadske.org:9000/GBADsTable/public?eth_csa_mules_holdings&format=text\n",
      "http://gbadske.org:9000/GBADsTable/public?eth_csa_mules_usage&format=text\n",
      "http://gbadske.org:9000/GBADsTable/public?eth_csa_poultry_eggs&format=text\n",
      "http://gbadske.org:9000/GBADsTable/public?eth_csa_poultry_estimation&format=text\n",
      "http://gbadske.org:9000/GBADsTable/public?eth_csa_poultry_health&format=text\n",
      "http://gbadske.org:9000/GBADsTable/public?eth_csa_poultry_holdings&format=text\n",
      "http://gbadske.org:9000/GBADsTable/public?eth_csa_poultry_inventory&format=text\n",
      "http://gbadske.org:9000/GBADsTable/public?eth_csa_sheep_category&format=text\n",
      "http://gbadske.org:9000/GBADsTable/public?eth_csa_sheep_estimation&format=text\n",
      "http://gbadske.org:9000/GBADsTable/public?eth_csa_sheep_health&format=text\n",
      "http://gbadske.org:9000/GBADsTable/public?eth_csa_sheep_holdings&format=text\n",
      "http://gbadske.org:9000/GBADsTable/public?eth_csa_sheep_usage&format=text\n"
     ]
    }
   ],
   "source": [
    "for i in all_tables:\n",
    "    if 'eth' in i:\n",
    "        print('%s%s&format=text' % (field_names_baseurl, i))"
   ]
  },
  {
   "cell_type": "code",
   "execution_count": 14,
   "id": "72e18fdb",
   "metadata": {},
   "outputs": [
    {
     "data": {
      "text/plain": [
       "'countries_hdi_un'"
      ]
     },
     "execution_count": 14,
     "metadata": {},
     "output_type": "execute_result"
    }
   ],
   "source": []
  },
  {
   "cell_type": "code",
   "execution_count": null,
   "id": "b3390101",
   "metadata": {},
   "outputs": [],
   "source": []
  }
 ],
 "metadata": {
  "kernelspec": {
   "display_name": "Python 3 (ipykernel)",
   "language": "python",
   "name": "python3"
  },
  "language_info": {
   "codemirror_mode": {
    "name": "ipython",
    "version": 3
   },
   "file_extension": ".py",
   "mimetype": "text/x-python",
   "name": "python",
   "nbconvert_exporter": "python",
   "pygments_lexer": "ipython3",
   "version": "3.10.0"
  }
 },
 "nbformat": 4,
 "nbformat_minor": 5
}
